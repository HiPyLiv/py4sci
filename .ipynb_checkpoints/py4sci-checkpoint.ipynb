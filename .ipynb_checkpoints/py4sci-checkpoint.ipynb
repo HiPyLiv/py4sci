{
 "cells": [
  {
   "cell_type": "markdown",
   "metadata": {},
   "source": [
    "# HiPy: Python for Scientists\n",
    "### An Introduction to Jupyter Notebook and Matplotlib\n",
    "\n",
    "Welcome to HiPy! If you're reading this during one of our Hive events then we have a few simple rules:\n",
    "  - Don't work in isolation. Find a partner or team and work together.\n",
    "  - If you get stuck then turn to the nearest person and ask for help. They won't bite!\n",
    "  - Have fun and lots of interesting conversations.\n",
    "  \n",
    "The objective of this notebook is to provide an introduction Jupyter Notebook and Matplotlib. Be sure to checkout our other notebooks in the Python for Scientists Resources section at [hipy.uk](http://hipy.uk) You're not going to learn everything in the two or three hours that you're with us but hopefully we'll be able to showcase some really useful aspects of Python that will be of benefit to you and your research/studies."
   ]
  },
  {
   "cell_type": "markdown",
   "metadata": {},
   "source": [
    "The first bit of magic that we have to perform is to run the code in the cell below. This loads a tonn of stuff into the background of our notebook including NumPy and Matplotlib. This means that we dont have to preceed our functions with np. or plt."
   ]
  },
  {
   "cell_type": "code",
   "execution_count": 1,
   "metadata": {
    "collapsed": false
   },
   "outputs": [
    {
     "name": "stdout",
     "output_type": "stream",
     "text": [
      "Populating the interactive namespace from numpy and matplotlib\n"
     ]
    }
   ],
   "source": [
    "% pylab inline"
   ]
  },
  {
   "cell_type": "markdown",
   "metadata": {},
   "source": [
    "# 1. Basic Plotting\n",
    "\n",
    "\n",
    "### Example 1.1: Basics\n",
    "\n",
    "This example is based on a great introduction to plotting using matplotlib which can be found here:\n",
    "  - [http://www.scipy-lectures.org/intro/matplotlib/matplotlib.html](http://www.scipy-lectures.org/intro/matplotlib/matplotlib.html)\n",
    "\n",
    "OK. Lets start. The cell below shows the three key elements to any basic 2D plot in matplotlib:\n",
    "  - A list of x values\n",
    "  - A list of y values (the same length as the x list)\n",
    "  - A command to plot that takes lists x and y as arguments)"
   ]
  },
  {
   "cell_type": "code",
   "execution_count": 2,
   "metadata": {
    "collapsed": false
   },
   "outputs": [
    {
     "data": {
      "text/plain": [
       "[<matplotlib.lines.Line2D at 0x7f24639a5710>]"
      ]
     },
     "execution_count": 2,
     "metadata": {},
     "output_type": "execute_result"
    },
    {
     "data": {
      "image/png": "[encoded data removed]",
      "text/plain": [
       "<matplotlib.figure.Figure at 0x7f24659ae7f0>"
      ]
     },
     "metadata": {},
     "output_type": "display_data"
    }
   ],
   "source": [
    "x = linspace(-2*pi, 2*pi, 100) #generates list of 100 data points in range -2pi to 2pi\n",
    "y = sin(x) #generates a list of sin(x) values from x\n",
    "plot(x, y) #generates a plot of x vs y\n"
   ]
  },
  {
   "cell_type": "markdown",
   "metadata": {},
   "source": [
    "What! No axis labels? No title? That is unforgivable, lets remedy this ..."
   ]
  },
  {
   "cell_type": "code",
   "execution_count": 3,
   "metadata": {
    "collapsed": false
   },
   "outputs": [
    {
     "data": {
      "text/plain": [
       "<matplotlib.text.Text at 0x7f2463922a90>"
      ]
     },
     "execution_count": 3,
     "metadata": {},
     "output_type": "execute_result"
    },
    {
     "data": {
      "image/png": "[encoded data removed]",
      "text/plain": [
       "<matplotlib.figure.Figure at 0x7f246397a208>"
      ]
     },
     "metadata": {},
     "output_type": "display_data"
    }
   ],
   "source": [
    "x = linspace(-2*pi, 2*pi, 100) #generates list of 100 data points in range -2pi to 2pi\n",
    "y = sin(x) #generates a list of sin(x) values from x\n",
    "plot(x, y) #generates a plot of x vs y\n",
    "\n",
    "xlabel('x (radians)') #sets x label\n",
    "ylabel('y') #sets the y label\n",
    "title('Plot of y=sin(x)') # sets the title (obviously)\n"
   ]
  },
  {
   "cell_type": "markdown",
   "metadata": {},
   "source": [
    "Phew, that's better."
   ]
  },
  {
   "cell_type": "markdown",
   "metadata": {},
   "source": [
    "### Excercise 1.1a\n",
    "  - Add a plot of y = cos(x) to the plot\n",
    "  - Add a legend to the plot that labels both sin(x) and cos(x) curves"
   ]
  },
  {
   "cell_type": "code",
   "execution_count": 4,
   "metadata": {
    "collapsed": true
   },
   "outputs": [],
   "source": [
    "# Write your solution here"
   ]
  },
  {
   "cell_type": "markdown",
   "metadata": {},
   "source": [
    "### Example 1.2: Using subplots()\n",
    "\n",
    "Using the subplots() method allows us to create a grid of axes and gives a lot more flexibility to format our plots and re-use them.\n",
    "\n",
    "This example is based on that provided by:\n",
    "  - [http://matplotlib.org/examples/pylab_examples/subplots_demo.html](http://matplotlib.org/examples/pylab_examples/subplots_demo.html)\n",
    "\n"
   ]
  },
  {
   "cell_type": "code",
   "execution_count": 5,
   "metadata": {
    "collapsed": false
   },
   "outputs": [
    {
     "data": {
      "text/plain": [
       "<matplotlib.text.Text at 0x7f24638d9c50>"
      ]
     },
     "execution_count": 5,
     "metadata": {},
     "output_type": "execute_result"
    },
    {
     "data": {
      "image/png": "[encoded data removed]",
      "text/plain": [
       "<matplotlib.figure.Figure at 0x7f24638e1be0>"
      ]
     },
     "metadata": {},
     "output_type": "display_data"
    }
   ],
   "source": [
    "fig, ax = subplots()\n",
    "ax.plot(x, y)\n",
    "ax.set_title('Simple plot')\n",
    "ax.set_xlabel('x')\n",
    "ax.set_ylabel('y')"
   ]
  },
  {
   "cell_type": "markdown",
   "metadata": {},
   "source": [
    "So how is this different to what we have done before? Well, we can now simply call \"fig\" in a cell to reproduce our plot at will ..."
   ]
  },
  {
   "cell_type": "code",
   "execution_count": 6,
   "metadata": {
    "collapsed": false
   },
   "outputs": [
    {
     "data": {
      "image/png": "[encoded data removed]",
      "text/plain": [
       "<matplotlib.figure.Figure at 0x7f24638e1be0>"
      ]
     },
     "execution_count": 6,
     "metadata": {},
     "output_type": "execute_result"
    }
   ],
   "source": [
    "fig"
   ]
  },
  {
   "cell_type": "markdown",
   "metadata": {},
   "source": [
    "You can also save your plot to an image file ..."
   ]
  },
  {
   "cell_type": "code",
   "execution_count": 7,
   "metadata": {
    "collapsed": false
   },
   "outputs": [],
   "source": [
    "fig.savefig('simplePlot.png') #saves the file in the same directory as your .ipynb file"
   ]
  },
  {
   "cell_type": "markdown",
   "metadata": {},
   "source": [
    "subplots() also allows you to generate multiple plots within your figure ..."
   ]
  },
  {
   "cell_type": "code",
   "execution_count": 8,
   "metadata": {
    "collapsed": false
   },
   "outputs": [
    {
     "data": {
      "text/plain": [
       "<matplotlib.text.Text at 0x7f24637a7898>"
      ]
     },
     "execution_count": 8,
     "metadata": {},
     "output_type": "execute_result"
    },
    {
     "data": {
      "image/png": "[encoded data removed]",
      "text/plain": [
       "<matplotlib.figure.Figure at 0x7f24638d0240>"
      ]
     },
     "metadata": {},
     "output_type": "display_data"
    }
   ],
   "source": [
    "fig, (ax1, ax2) = subplots(2,1) #subplots(rows, columns)\n",
    "ax1.plot(x, y)\n",
    "ax1.set_ylabel('y')\n",
    "ax2.plot(x, cos(x))\n",
    "ax2.set_xlabel('x')\n",
    "ax2.set_ylabel('y')"
   ]
  },
  {
   "cell_type": "markdown",
   "metadata": {},
   "source": [
    "In this situation where you know your x-axes are the same it might be nice to share them (i.e. only show the one at the bottom of the second plot). This is really easy ..."
   ]
  },
  {
   "cell_type": "code",
   "execution_count": 9,
   "metadata": {
    "collapsed": false
   },
   "outputs": [
    {
     "data": {
      "text/plain": [
       "<matplotlib.text.Text at 0x7f24636f0b00>"
      ]
     },
     "execution_count": 9,
     "metadata": {},
     "output_type": "execute_result"
    },
    {
     "data": {
      "image/png": "[encoded data removed]",
      "text/plain": [
       "<matplotlib.figure.Figure at 0x7f246377e748>"
      ]
     },
     "metadata": {},
     "output_type": "display_data"
    }
   ],
   "source": [
    "fig, (ax1, ax2) = subplots(2,1, sharex=True) #share x-axis\n",
    "ax1.plot(x, y)\n",
    "ax1.set_ylabel('y')\n",
    "ax2.plot(x, cos(x))\n",
    "ax2.set_xlabel('x')\n",
    "ax2.set_ylabel('y')"
   ]
  },
  {
   "cell_type": "markdown",
   "metadata": {},
   "source": [
    "## Exercise 1.2a\n",
    "  - add an extra subplot of y = tan(x) to the figure above\n",
    "  - make the figure bigger so that it fills the cell\n",
    "  - change the font size of the axis labels so that they are easier to read\n",
    "  - change the font size of the tick labels too!"
   ]
  },
  {
   "cell_type": "code",
   "execution_count": 10,
   "metadata": {
    "collapsed": true
   },
   "outputs": [],
   "source": [
    "# Write your solution here"
   ]
  },
  {
   "cell_type": "markdown",
   "metadata": {},
   "source": [
    "## Exercise 1.2b\n",
    "  - add an additional line to each subplot (e.g. y = (sin(x)**2))\n",
    "  - create a legend for each subplot and position it in the bottom left hand corner\n",
    "  "
   ]
  },
  {
   "cell_type": "code",
   "execution_count": 11,
   "metadata": {
    "collapsed": true
   },
   "outputs": [],
   "source": [
    "# Write your solution here"
   ]
  },
  {
   "cell_type": "markdown",
   "metadata": {},
   "source": [
    "# 2. Reading Data\n",
    "\n",
    "If you're a scientist or engineer then no doubt you are used to data ... lots of data. If you want to plot that data with Python then we first have to read it. The way you go about this depends a lot on how the data is stored and formatted e.g. is it in columns, is a in a .txt or .csv file? Here are a few basic examples on how to read and plot some simple data."
   ]
  },
  {
   "cell_type": "markdown",
   "metadata": {},
   "source": [
    "## Example 2.1: basicData.csv\n",
    "\n",
    "If you take a look at the github respository that this notebook is stored in then you will also find a file called 'basicData.csv'. Download this file and put it in the same repository as your working notebook (note: if you are awesome you will have used Git to clone the repo to a local folder on your laptop so you won't need to do this).\n",
    "\n",
    "There are loads of ways that we could read this file with Python. My favourite way is as follows:"
   ]
  },
  {
   "cell_type": "code",
   "execution_count": 12,
   "metadata": {
    "collapsed": false,
    "scrolled": true
   },
   "outputs": [
    {
     "name": "stdout",
     "output_type": "stream",
     "text": [
      "0.8742493573359764,0.8984454872247875\n",
      "0.9347834283458529,0.1185692139656731\n",
      "0.3552538838826974,-0.5271505489899634\n",
      "0.6711086063324345,0.37846699672418976\n",
      "0.992089267808121,0.995832784659719\n",
      "0.5638308316282392,-0.19675185221087227\n",
      "0.13333568031363485,-1.0443527811123516\n",
      "0.5137582239527181,-0.6097251652174991\n",
      "0.2105473626844403,-1.0803183544557142\n",
      "0.37956952808447686,-0.7732662970192039\n",
      "0.0221870588491605,-1.8432987892536798\n",
      "0.09375563265806297,-1.3706411577494704\n",
      "0.5984487808383948,-0.13843242273243533\n",
      "0.9935019206022323,-0.028254176133720388\n",
      "0.076201853377724,-1.7708613728344005\n",
      "0.6387799134233527,-0.13511023597814165\n",
      "0.4502170616428369,-0.0223285556541043\n",
      "0.8081806686744833,1.2995171108371186\n",
      "0.7583440223862559,-0.06667467294239038\n",
      "0.5160641774846834,0.2026862480999262\n",
      "0.27040772557572856,-1.2056693625845392\n",
      "0.49383371503123663,-0.3595445698153601\n",
      "0.3989778642244468,0.05536913493335649\n",
      "0.7687064359302935,0.9028184466505899\n",
      "0.929788726885044,0.9088148660824498\n",
      "0.5266236298540657,-0.3137069457294446\n",
      "0.34368608798144695,-0.6346853477961676\n",
      "0.20048997369255017,-1.0716505798860052\n",
      "0.09983194719763266,-0.8420530537944302\n",
      "0.966508911740347,0.14642898760012124\n",
      "0.013773699576427156,-1.2667166746417542\n",
      "0.497752608698909,-0.4627980308878066\n",
      "0.3178836905050628,-0.9399815204543787\n",
      "0.44556314167117195,-0.5373012606651967\n",
      "0.23217348574731345,-0.6799834762146273\n",
      "0.5601965319924438,-0.012012708512056353\n",
      "0.2931569047263739,-0.6857986841939638\n",
      "0.5783610323706155,-0.4003160411655046\n",
      "0.4901949326887196,-0.576157319516597\n",
      "0.8201413952324337,1.1271854685379425\n",
      "0.865587621703313,0.29086777034532224\n",
      "0.1707847398477097,-1.4067908242757858\n",
      "0.7038480729603552,-0.2157379674991587\n",
      "0.04215818505224633,-1.2901059130420147\n",
      "0.29372880127034706,-0.8048254639642072\n",
      "0.6841589195385428,0.3701700724125673\n",
      "0.7390655941231576,0.6043947591145409\n",
      "0.5815533960744482,-0.4681284012221666\n",
      "0.5648798612243932,0.3176067633429691\n",
      "0.2501036025230826,-0.8503529758942197\n",
      "0.4369511906535687,0.30574350326330635\n",
      "0.7736464209129946,-0.2120945182006414\n",
      "0.4772940221103317,-0.5920000519803593\n",
      "0.6440073263433794,0.16433320772603358\n",
      "0.24679439433998207,-0.9624149669149364\n",
      "0.8087732780090412,0.8510745592552773\n",
      "0.6735441555490503,-0.218861350419088\n",
      "0.7781698847797778,-0.27991406507725114\n",
      "0.08222866101140336,-1.330315538688939\n",
      "0.14546100450903265,-0.6268849426810138\n",
      "0.3146225860084181,-0.3123043741121255\n",
      "0.8631862597571772,-0.06621406602494284\n",
      "0.8283025095065125,0.9921801318218099\n",
      "0.7197925837561829,0.014385775274291746\n",
      "0.4549308699447562,-0.518653895809088\n",
      "0.43756733862366903,-0.5144847501538268\n",
      "0.24163298393717014,-0.6684074244675604\n",
      "0.46478573941626056,-0.6971526250866649\n",
      "0.465112422600252,-0.3301961234500267\n",
      "0.6738084442589208,0.03856846536098095\n",
      "0.38478109619552125,-0.9614953582308718\n",
      "0.5322251769168083,0.3073108521376483\n",
      "0.035535805251462826,-1.631587170301788\n",
      "0.761574225052819,0.08054903163568569\n",
      "0.928569214951348,0.7897967836891436\n",
      "0.6974179992618856,0.15161744200284943\n",
      "0.23821997736696332,-1.7121610386862165\n",
      "0.2407489350462495,-0.6929959812200827\n",
      "0.025530529634915422,-1.5364934730090447\n",
      "0.17779678253314501,-0.8634598440753414\n",
      "0.22047947191150907,-1.4133952224441548\n",
      "0.38440510419773966,-0.37033993473830434\n",
      "0.5352949384229114,-0.20776293051177624\n",
      "0.18014473319758528,-1.2458169979762366\n",
      "0.008430052799275334,-1.345498561360735\n",
      "0.5367756572980771,-0.051652712673368656\n",
      "0.681760908753387,0.12528018747561198\n",
      "0.5924605963756135,-0.12139000018443769\n",
      "0.8101647820564952,-0.19819619880801742\n",
      "0.12327852087310609,-0.9006948971711385\n",
      "0.4261956549376036,-1.139689078357177\n",
      "0.8722455627040264,0.27875517246030174\n",
      "0.28430838713253104,-0.7649260747028324\n",
      "0.6367440047730237,0.5892432393711522\n",
      "0.34923450413811963,-0.3115767066258868\n",
      "0.8232709179423191,0.7240398422493463\n",
      "0.31003645669587665,-1.0868873899703104\n",
      "0.13070648286601116,-1.5682411665171585\n",
      "0.019330929391415563,-1.8724706022050894\n",
      "0.6596218375402683,0.3456160953018967\n",
      "\n"
     ]
    }
   ],
   "source": [
    "with open('basicData.csv', 'r') as f: #opens the file as on object 'f', 'r' argument denotes read mode.\n",
    "    print(f.read()) #spits out the entire contents of the file"
   ]
  },
  {
   "cell_type": "markdown",
   "metadata": {},
   "source": [
    "You can see that this file contains two comma separated columns. But simple performing f.read() doesn't really help us much. In order for us to plot this data we want to put all of the values of one column in a list called 'x' and all the values in the second column into an array called 'y'. This requires a bit of jiggery pokery."
   ]
  },
  {
   "cell_type": "code",
   "execution_count": 13,
   "metadata": {
    "collapsed": false
   },
   "outputs": [
    {
     "name": "stdout",
     "output_type": "stream",
     "text": [
      "['0.8742493573359764,0.8984454872247875\\n', '0.9347834283458529,0.1185692139656731\\n', '0.3552538838826974,-0.5271505489899634\\n', '0.6711086063324345,0.37846699672418976\\n', '0.992089267808121,0.995832784659719\\n', '0.5638308316282392,-0.19675185221087227\\n', '0.13333568031363485,-1.0443527811123516\\n', '0.5137582239527181,-0.6097251652174991\\n', '0.2105473626844403,-1.0803183544557142\\n', '0.37956952808447686,-0.7732662970192039\\n', '0.0221870588491605,-1.8432987892536798\\n', '0.09375563265806297,-1.3706411577494704\\n', '0.5984487808383948,-0.13843242273243533\\n', '0.9935019206022323,-0.028254176133720388\\n', '0.076201853377724,-1.7708613728344005\\n', '0.6387799134233527,-0.13511023597814165\\n', '0.4502170616428369,-0.0223285556541043\\n', '0.8081806686744833,1.2995171108371186\\n', '0.7583440223862559,-0.06667467294239038\\n', '0.5160641774846834,0.2026862480999262\\n', '0.27040772557572856,-1.2056693625845392\\n', '0.49383371503123663,-0.3595445698153601\\n', '0.3989778642244468,0.05536913493335649\\n', '0.7687064359302935,0.9028184466505899\\n', '0.929788726885044,0.9088148660824498\\n', '0.5266236298540657,-0.3137069457294446\\n', '0.34368608798144695,-0.6346853477961676\\n', '0.20048997369255017,-1.0716505798860052\\n', '0.09983194719763266,-0.8420530537944302\\n', '0.966508911740347,0.14642898760012124\\n', '0.013773699576427156,-1.2667166746417542\\n', '0.497752608698909,-0.4627980308878066\\n', '0.3178836905050628,-0.9399815204543787\\n', '0.44556314167117195,-0.5373012606651967\\n', '0.23217348574731345,-0.6799834762146273\\n', '0.5601965319924438,-0.012012708512056353\\n', '0.2931569047263739,-0.6857986841939638\\n', '0.5783610323706155,-0.4003160411655046\\n', '0.4901949326887196,-0.576157319516597\\n', '0.8201413952324337,1.1271854685379425\\n', '0.865587621703313,0.29086777034532224\\n', '0.1707847398477097,-1.4067908242757858\\n', '0.7038480729603552,-0.2157379674991587\\n', '0.04215818505224633,-1.2901059130420147\\n', '0.29372880127034706,-0.8048254639642072\\n', '0.6841589195385428,0.3701700724125673\\n', '0.7390655941231576,0.6043947591145409\\n', '0.5815533960744482,-0.4681284012221666\\n', '0.5648798612243932,0.3176067633429691\\n', '0.2501036025230826,-0.8503529758942197\\n', '0.4369511906535687,0.30574350326330635\\n', '0.7736464209129946,-0.2120945182006414\\n', '0.4772940221103317,-0.5920000519803593\\n', '0.6440073263433794,0.16433320772603358\\n', '0.24679439433998207,-0.9624149669149364\\n', '0.8087732780090412,0.8510745592552773\\n', '0.6735441555490503,-0.218861350419088\\n', '0.7781698847797778,-0.27991406507725114\\n', '0.08222866101140336,-1.330315538688939\\n', '0.14546100450903265,-0.6268849426810138\\n', '0.3146225860084181,-0.3123043741121255\\n', '0.8631862597571772,-0.06621406602494284\\n', '0.8283025095065125,0.9921801318218099\\n', '0.7197925837561829,0.014385775274291746\\n', '0.4549308699447562,-0.518653895809088\\n', '0.43756733862366903,-0.5144847501538268\\n', '0.24163298393717014,-0.6684074244675604\\n', '0.46478573941626056,-0.6971526250866649\\n', '0.465112422600252,-0.3301961234500267\\n', '0.6738084442589208,0.03856846536098095\\n', '0.38478109619552125,-0.9614953582308718\\n', '0.5322251769168083,0.3073108521376483\\n', '0.035535805251462826,-1.631587170301788\\n', '0.761574225052819,0.08054903163568569\\n', '0.928569214951348,0.7897967836891436\\n', '0.6974179992618856,0.15161744200284943\\n', '0.23821997736696332,-1.7121610386862165\\n', '0.2407489350462495,-0.6929959812200827\\n', '0.025530529634915422,-1.5364934730090447\\n', '0.17779678253314501,-0.8634598440753414\\n', '0.22047947191150907,-1.4133952224441548\\n', '0.38440510419773966,-0.37033993473830434\\n', '0.5352949384229114,-0.20776293051177624\\n', '0.18014473319758528,-1.2458169979762366\\n', '0.008430052799275334,-1.345498561360735\\n', '0.5367756572980771,-0.051652712673368656\\n', '0.681760908753387,0.12528018747561198\\n', '0.5924605963756135,-0.12139000018443769\\n', '0.8101647820564952,-0.19819619880801742\\n', '0.12327852087310609,-0.9006948971711385\\n', '0.4261956549376036,-1.139689078357177\\n', '0.8722455627040264,0.27875517246030174\\n', '0.28430838713253104,-0.7649260747028324\\n', '0.6367440047730237,0.5892432393711522\\n', '0.34923450413811963,-0.3115767066258868\\n', '0.8232709179423191,0.7240398422493463\\n', '0.31003645669587665,-1.0868873899703104\\n', '0.13070648286601116,-1.5682411665171585\\n', '0.019330929391415563,-1.8724706022050894\\n', '0.6596218375402683,0.3456160953018967\\n']\n"
     ]
    }
   ],
   "source": [
    "with open ('basicData.csv', 'r') as f:\n",
    "    data = [] #create an empty list\n",
    "    for line in f: #reads the file line by line\n",
    "        data.append(line) #appends each line to the data list\n",
    "    print(data)"
   ]
  },
  {
   "cell_type": "markdown",
   "metadata": {},
   "source": [
    "Oh dear. This hasn't really helped. What a mess. Notice that the pairs of values from each line are accompanied by quotaion marks, indicating that they are stored as a big string, and by the characters '\\n' which indicate the end of the line (we want to get rid of these. So how do we fix this? Well, before we append we need to do a bit of work ..."
   ]
  },
  {
   "cell_type": "code",
   "execution_count": 14,
   "metadata": {
    "collapsed": false
   },
   "outputs": [
    {
     "name": "stdout",
     "output_type": "stream",
     "text": [
      "[[0.8742493573359764, 0.8984454872247875], [0.9347834283458529, 0.1185692139656731], [0.3552538838826974, -0.5271505489899634], [0.6711086063324345, 0.37846699672418976], [0.992089267808121, 0.995832784659719], [0.5638308316282392, -0.19675185221087227], [0.13333568031363485, -1.0443527811123516], [0.5137582239527181, -0.6097251652174991], [0.2105473626844403, -1.0803183544557142], [0.37956952808447686, -0.7732662970192039], [0.0221870588491605, -1.8432987892536798], [0.09375563265806297, -1.3706411577494704], [0.5984487808383948, -0.13843242273243533], [0.9935019206022323, -0.028254176133720388], [0.076201853377724, -1.7708613728344005], [0.6387799134233527, -0.13511023597814165], [0.4502170616428369, -0.0223285556541043], [0.8081806686744833, 1.2995171108371186], [0.7583440223862559, -0.06667467294239038], [0.5160641774846834, 0.2026862480999262], [0.27040772557572856, -1.2056693625845392], [0.49383371503123663, -0.3595445698153601], [0.3989778642244468, 0.05536913493335649], [0.7687064359302935, 0.9028184466505899], [0.929788726885044, 0.9088148660824498], [0.5266236298540657, -0.3137069457294446], [0.34368608798144695, -0.6346853477961676], [0.20048997369255017, -1.0716505798860052], [0.09983194719763266, -0.8420530537944302], [0.966508911740347, 0.14642898760012124], [0.013773699576427156, -1.2667166746417542], [0.497752608698909, -0.4627980308878066], [0.3178836905050628, -0.9399815204543787], [0.44556314167117195, -0.5373012606651967], [0.23217348574731345, -0.6799834762146273], [0.5601965319924438, -0.012012708512056353], [0.2931569047263739, -0.6857986841939638], [0.5783610323706155, -0.4003160411655046], [0.4901949326887196, -0.576157319516597], [0.8201413952324337, 1.1271854685379425], [0.865587621703313, 0.29086777034532224], [0.1707847398477097, -1.4067908242757858], [0.7038480729603552, -0.2157379674991587], [0.04215818505224633, -1.2901059130420147], [0.29372880127034706, -0.8048254639642072], [0.6841589195385428, 0.3701700724125673], [0.7390655941231576, 0.6043947591145409], [0.5815533960744482, -0.4681284012221666], [0.5648798612243932, 0.3176067633429691], [0.2501036025230826, -0.8503529758942197], [0.4369511906535687, 0.30574350326330635], [0.7736464209129946, -0.2120945182006414], [0.4772940221103317, -0.5920000519803593], [0.6440073263433794, 0.16433320772603358], [0.24679439433998207, -0.9624149669149364], [0.8087732780090412, 0.8510745592552773], [0.6735441555490503, -0.218861350419088], [0.7781698847797778, -0.27991406507725114], [0.08222866101140336, -1.330315538688939], [0.14546100450903265, -0.6268849426810138], [0.3146225860084181, -0.3123043741121255], [0.8631862597571772, -0.06621406602494284], [0.8283025095065125, 0.9921801318218099], [0.7197925837561829, 0.014385775274291746], [0.4549308699447562, -0.518653895809088], [0.43756733862366903, -0.5144847501538268], [0.24163298393717014, -0.6684074244675604], [0.46478573941626056, -0.6971526250866649], [0.465112422600252, -0.3301961234500267], [0.6738084442589208, 0.03856846536098095], [0.38478109619552125, -0.9614953582308718], [0.5322251769168083, 0.3073108521376483], [0.035535805251462826, -1.631587170301788], [0.761574225052819, 0.08054903163568569], [0.928569214951348, 0.7897967836891436], [0.6974179992618856, 0.15161744200284943], [0.23821997736696332, -1.7121610386862165], [0.2407489350462495, -0.6929959812200827], [0.025530529634915422, -1.5364934730090447], [0.17779678253314501, -0.8634598440753414], [0.22047947191150907, -1.4133952224441548], [0.38440510419773966, -0.37033993473830434], [0.5352949384229114, -0.20776293051177624], [0.18014473319758528, -1.2458169979762366], [0.008430052799275334, -1.345498561360735], [0.5367756572980771, -0.051652712673368656], [0.681760908753387, 0.12528018747561198], [0.5924605963756135, -0.12139000018443769], [0.8101647820564952, -0.19819619880801742], [0.12327852087310609, -0.9006948971711385], [0.4261956549376036, -1.139689078357177], [0.8722455627040264, 0.27875517246030174], [0.28430838713253104, -0.7649260747028324], [0.6367440047730237, 0.5892432393711522], [0.34923450413811963, -0.3115767066258868], [0.8232709179423191, 0.7240398422493463], [0.31003645669587665, -1.0868873899703104], [0.13070648286601116, -1.5682411665171585], [0.019330929391415563, -1.8724706022050894], [0.6596218375402683, 0.3456160953018967]]\n"
     ]
    }
   ],
   "source": [
    "with open ('basicData.csv', 'r') as f:\n",
    "    data = [] #create an empty list\n",
    "    for line in f:\n",
    "        newLine = line.strip('\\n') #This strips out my unwanted '\\n's\n",
    "        newList = newLine.split(',') #This splits each line string on its comma into a list containing two elements\n",
    "        floatList = [] #create a new empty list\n",
    "        for item in newList:\n",
    "            '''\n",
    "            This loop looks at each element in newList,\n",
    "            converts it from a string into a float\n",
    "            and appends each new float to floatList\n",
    "            '''\n",
    "            floatList.append(float(item))\n",
    "        data.append(floatList) #Then we append the data list with the new floatList\n",
    "    print(data)"
   ]
  },
  {
   "cell_type": "markdown",
   "metadata": {},
   "source": [
    "OK, this looks better, but my data stored in rows instead of columns, i.e. instead of 1000 list elements containing a pair of floats (one from each column) I want two elements (one x and one y), each containing 1000 values. This is easy to do using the transpose() method."
   ]
  },
  {
   "cell_type": "code",
   "execution_count": 15,
   "metadata": {
    "collapsed": false
   },
   "outputs": [
    {
     "name": "stdout",
     "output_type": "stream",
     "text": [
      "[[ 0.87424936  0.93478343  0.35525388  0.67110861  0.99208927  0.56383083\n",
      "   0.13333568  0.51375822  0.21054736  0.37956953  0.02218706  0.09375563\n",
      "   0.59844878  0.99350192  0.07620185  0.63877991  0.45021706  0.80818067\n",
      "   0.75834402  0.51606418  0.27040773  0.49383372  0.39897786  0.76870644\n",
      "   0.92978873  0.52662363  0.34368609  0.20048997  0.09983195  0.96650891\n",
      "   0.0137737   0.49775261  0.31788369  0.44556314  0.23217349  0.56019653\n",
      "   0.2931569   0.57836103  0.49019493  0.8201414   0.86558762  0.17078474\n",
      "   0.70384807  0.04215819  0.2937288   0.68415892  0.73906559  0.5815534\n",
      "   0.56487986  0.2501036   0.43695119  0.77364642  0.47729402  0.64400733\n",
      "   0.24679439  0.80877328  0.67354416  0.77816988  0.08222866  0.145461\n",
      "   0.31462259  0.86318626  0.82830251  0.71979258  0.45493087  0.43756734\n",
      "   0.24163298  0.46478574  0.46511242  0.67380844  0.3847811   0.53222518\n",
      "   0.03553581  0.76157423  0.92856921  0.697418    0.23821998  0.24074894\n",
      "   0.02553053  0.17779678  0.22047947  0.3844051   0.53529494  0.18014473\n",
      "   0.00843005  0.53677566  0.68176091  0.5924606   0.81016478  0.12327852\n",
      "   0.42619565  0.87224556  0.28430839  0.636744    0.3492345   0.82327092\n",
      "   0.31003646  0.13070648  0.01933093  0.65962184]\n",
      " [ 0.89844549  0.11856921 -0.52715055  0.378467    0.99583278 -0.19675185\n",
      "  -1.04435278 -0.60972517 -1.08031835 -0.7732663  -1.84329879 -1.37064116\n",
      "  -0.13843242 -0.02825418 -1.77086137 -0.13511024 -0.02232856  1.29951711\n",
      "  -0.06667467  0.20268625 -1.20566936 -0.35954457  0.05536913  0.90281845\n",
      "   0.90881487 -0.31370695 -0.63468535 -1.07165058 -0.84205305  0.14642899\n",
      "  -1.26671667 -0.46279803 -0.93998152 -0.53730126 -0.67998348 -0.01201271\n",
      "  -0.68579868 -0.40031604 -0.57615732  1.12718547  0.29086777 -1.40679082\n",
      "  -0.21573797 -1.29010591 -0.80482546  0.37017007  0.60439476 -0.4681284\n",
      "   0.31760676 -0.85035298  0.3057435  -0.21209452 -0.59200005  0.16433321\n",
      "  -0.96241497  0.85107456 -0.21886135 -0.27991407 -1.33031554 -0.62688494\n",
      "  -0.31230437 -0.06621407  0.99218013  0.01438578 -0.5186539  -0.51448475\n",
      "  -0.66840742 -0.69715263 -0.33019612  0.03856847 -0.96149536  0.30731085\n",
      "  -1.63158717  0.08054903  0.78979678  0.15161744 -1.71216104 -0.69299598\n",
      "  -1.53649347 -0.86345984 -1.41339522 -0.37033993 -0.20776293 -1.245817\n",
      "  -1.34549856 -0.05165271  0.12528019 -0.12139    -0.1981962  -0.9006949\n",
      "  -1.13968908  0.27875517 -0.76492607  0.58924324 -0.31157671  0.72403984\n",
      "  -1.08688739 -1.56824117 -1.8724706   0.3456161 ]]\n"
     ]
    }
   ],
   "source": [
    "with open ('basicData.csv', 'r') as f:\n",
    "    data = [] #create an empty list\n",
    "    for line in f:\n",
    "        data.append([float(i) for i in line.strip('\\n').split(',')])\n",
    "    data = transpose(data)\n",
    "    print(data)"
   ]
  },
  {
   "cell_type": "markdown",
   "metadata": {},
   "source": [
    "That's it. Note that I've also simplified my code somewhat by condensing the first 5 lines of my for loop to a single Pythonic line of code. Lovely. Now we are ready to plot, but first I'm going to create a function that I can call at any time to read similarly formatted .csv files."
   ]
  },
  {
   "cell_type": "code",
   "execution_count": 16,
   "metadata": {
    "collapsed": false
   },
   "outputs": [],
   "source": [
    "def readFile(filename):\n",
    "    '''\n",
    "    Reads a .txt or .csv file containing comma sparated columns of data\n",
    "    '''\n",
    "    with open(filename) as f:\n",
    "        headers = []\n",
    "        data = []\n",
    "        for line in f:\n",
    "            try:\n",
    "                data.append([float(i) for i in line.strip('\\n').split(',')])\n",
    "            except:\n",
    "                headers = ([i for i in line.strip('\\n').split(',')])\n",
    "        return headers, transpose(data)"
   ]
  },
  {
   "cell_type": "markdown",
   "metadata": {},
   "source": [
    "## Exercise 2.1a: Plot the data!\n",
    "  - read the data from 'basicData.csv' and plot\n",
    "  - make the plot look jazzy (i.e axis labels and titles)\n",
    "  - perform a linear regression on the data (hint: Google \"Python polyfit()\")\n",
    "  - add a line of best fit to your plot\n",
    "  - save the figure!"
   ]
  },
  {
   "cell_type": "code",
   "execution_count": 17,
   "metadata": {
    "collapsed": false
   },
   "outputs": [],
   "source": [
    "# Write your solution here"
   ]
  },
  {
   "cell_type": "markdown",
   "metadata": {},
   "source": [
    "## Excersise 2.1b: Stefan-Boltzmann\n",
    "  - read the file 'sbData.csv' (see GitHub repo) and extract the file headers and data using readFile()\n",
    "  - plot the data\n",
    "  - Show that the data obeys the Stefan-Boltzmann law, $P=\\sigma T^4$, where $P$ is the black body irradiance and $T$ is the temperature.\n",
    "  - Estimate a value for $\\sigma$ to two decimal places\n",
    "  - Calculate the undertainty in $\\sigma$ (hint: cov=True, [http://stackoverflow.com/questions/27757732/find-uncertainty-from-polyfit](http://stackoverflow.com/questions/27757732/find-uncertainty-from-polyfit))"
   ]
  },
  {
   "cell_type": "code",
   "execution_count": 18,
   "metadata": {
    "collapsed": false
   },
   "outputs": [],
   "source": [
    "# Write your solution here"
   ]
  },
  {
   "cell_type": "markdown",
   "metadata": {},
   "source": [
    "# 3. Plotting 3D Graphs\n",
    "\n",
    "Matplotlip is amazing for plotting three dimensional datasets. Let's practice using the real dataset \"data3D.py\" located in the GitHub repo that this notebook lives in. Download it to your local working directory and restart the Jupyter Kernel."
   ]
  },
  {
   "cell_type": "markdown",
   "metadata": {},
   "source": [
    "This time the data is actually saved with a .py which is really useful because now we can simply import it like any other Python module"
   ]
  },
  {
   "cell_type": "code",
   "execution_count": 19,
   "metadata": {
    "collapsed": false
   },
   "outputs": [],
   "source": [
    "import threed #it's that simple"
   ]
  },
  {
   "cell_type": "code",
   "execution_count": 21,
   "metadata": {
    "collapsed": false
   },
   "outputs": [
    {
     "data": {
      "text/plain": [
       "[{'-15.0 -15.0': {'Rs': 18.181491196,\n",
       "   'd': 582.0,\n",
       "   'mob': 15.905328380039837,\n",
       "   'ne': 3.708876427017723e+20,\n",
       "   'rho': 0.0010581627876072,\n",
       "   'wp': 1.161,\n",
       "   'x': -15.0,\n",
       "   'y': -15.0},\n",
       "  '-15.0 -25.0': {'Rs': 29.4609458,\n",
       "   'd': 542.0,\n",
       "   'mob': 13.288394564690552,\n",
       "   'ne': 2.9418396814090443e+20,\n",
       "   'rho': 0.0015967832623599999,\n",
       "   'wp': 1.034,\n",
       "   'x': -15.0,\n",
       "   'y': -25.0},\n",
       "  '-15.0 -35.0': {'Rs': 54.148326936000004,\n",
       "   'd': 465.0,\n",
       "   'mob': 9.615477459240797,\n",
       "   'ne': 2.5782714455445488e+20,\n",
       "   'rho': 0.002517897202524,\n",
       "   'wp': 0.968,\n",
       "   'x': -15.0,\n",
       "   'y': -35.0},\n",
       "  '-15.0 -45.0': {'Rs': 135.027844644,\n",
       "   'd': 421.0,\n",
       "   'mob': 5.004390777570449,\n",
       "   'ne': 2.19422339873691e+20,\n",
       "   'rho': 0.0056846722595124,\n",
       "   'wp': 0.893,\n",
       "   'x': -15.0,\n",
       "   'y': -45.0},\n",
       "  '-15.0 -5.0': {'Rs': 12.803838123999999,\n",
       "   'd': 687.0,\n",
       "   'mob': 18.80827049393128,\n",
       "   'ne': 3.773042649131668e+20,\n",
       "   'rho': 0.0008796236791188,\n",
       "   'wp': 1.171,\n",
       "   'x': -15.0,\n",
       "   'y': -5.0},\n",
       "  '-15.0 15.0': {'Rs': 12.198050216,\n",
       "   'd': 821.0,\n",
       "   'mob': 18.58608175916454,\n",
       "   'ne': 3.353637142883027e+20,\n",
       "   'rho': 0.0010014599227336,\n",
       "   'wp': 1.104,\n",
       "   'x': -15.0,\n",
       "   'y': 15.0},\n",
       "  '-15.0 25.0': {'Rs': 15.110444844,\n",
       "   'd': 852.0,\n",
       "   'mob': 15.653517804138055,\n",
       "   'ne': 3.0974812917810574e+20,\n",
       "   'rho': 0.0012874099007087999,\n",
       "   'wp': 1.061,\n",
       "   'x': -15.0,\n",
       "   'y': 25.0},\n",
       "  '-15.0 35.0': {'Rs': 20.003717756,\n",
       "   'd': 893.0,\n",
       "   'mob': 12.931534952234642,\n",
       "   'ne': 2.7022481809557026e+20,\n",
       "   'rho': 0.0017863319956108001,\n",
       "   'wp': 0.991,\n",
       "   'x': -15.0,\n",
       "   'y': 35.0},\n",
       "  '-15.0 45.0': {'Rs': 30.068292716,\n",
       "   'd': 936.0,\n",
       "   'mob': 9.565101512075454,\n",
       "   'ne': 2.3187999727595926e+20,\n",
       "   'rho': 0.0028143921982175996,\n",
       "   'wp': 0.918,\n",
       "   'x': -15.0,\n",
       "   'y': 45.0},\n",
       "  '-15.0 5.0': {'Rs': 11.235933808,\n",
       "   'd': 752.0,\n",
       "   'mob': 19.480332150911003,\n",
       "   'ne': 3.7923998263431437e+20,\n",
       "   'rho': 0.0008449422223616001,\n",
       "   'wp': 1.174,\n",
       "   'x': -15.0,\n",
       "   'y': 5.0},\n",
       "  '-25.0 -15.0': {'Rs': 22.644133468,\n",
       "   'd': 521.0,\n",
       "   'mob': 14.979810348101102,\n",
       "   'ne': 3.5321386577714505e+20,\n",
       "   'rho': 0.0011797593536828,\n",
       "   'wp': 1.133,\n",
       "   'x': -25.0,\n",
       "   'y': -15.0},\n",
       "  '-25.0 -25.0': {'Rs': 35.310076428,\n",
       "   'd': 490.0,\n",
       "   'mob': 12.72719628154548,\n",
       "   'ne': 2.834718961292488e+20,\n",
       "   'rho': 0.001730193744972,\n",
       "   'wp': 1.015,\n",
       "   'x': -25.0,\n",
       "   'y': -25.0},\n",
       "  '-25.0 -35.0': {'Rs': 61.261314532,\n",
       "   'd': 426.0,\n",
       "   'mob': 9.315569291113896,\n",
       "   'ne': 2.5676284375198174e+20,\n",
       "   'rho': 0.0026097319990632,\n",
       "   'wp': 0.966,\n",
       "   'x': -25.0,\n",
       "   'y': -35.0},\n",
       "  '-25.0 -45.0': {'Rs': 141.820582992,\n",
       "   'd': 388.0,\n",
       "   'mob': 5.000539648657936,\n",
       "   'ne': 2.268556610160937e+20,\n",
       "   'rho': 0.0055026386200896,\n",
       "   'wp': 0.908,\n",
       "   'x': -25.0,\n",
       "   'y': -45.0},\n",
       "  '-25.0 -5.0': {'Rs': 15.806247336,\n",
       "   'd': 607.0,\n",
       "   'mob': 18.226137878394052,\n",
       "   'ne': 3.569647831864819e+20,\n",
       "   'rho': 0.0009594392132951999,\n",
       "   'wp': 1.139,\n",
       "   'x': -25.0,\n",
       "   'y': -5.0},\n",
       "  '-25.0 15.0': {'Rs': 13.229288687999999,\n",
       "   'd': 722.0,\n",
       "   'mob': 18.66670540275244,\n",
       "   'ne': 3.5010323481231576e+20,\n",
       "   'rho': 0.0009551546432735998,\n",
       "   'wp': 1.128,\n",
       "   'x': -25.0,\n",
       "   'y': 15.0},\n",
       "  '-25.0 25.0': {'Rs': 14.89401012,\n",
       "   'd': 747.0,\n",
       "   'mob': 17.162253863943906,\n",
       "   'ne': 3.26912043282934e+20,\n",
       "   'rho': 0.001112582555964,\n",
       "   'wp': 1.09,\n",
       "   'x': -25.0,\n",
       "   'y': 25.0},\n",
       "  '-25.0 35.0': {'Rs': 17.503816704,\n",
       "   'd': 782.0,\n",
       "   'mob': 15.235314976485007,\n",
       "   'ne': 2.993274466570965e+20,\n",
       "   'rho': 0.0013687984662527997,\n",
       "   'wp': 1.043,\n",
       "   'x': -25.0,\n",
       "   'y': 35.0},\n",
       "  '-25.0 45.0': {'Rs': 22.97162032,\n",
       "   'd': 822.0,\n",
       "   'mob': 13.009162591253693,\n",
       "   'ne': 2.541117221822223e+20,\n",
       "   'rho': 0.0018882671903039999,\n",
       "   'wp': 0.961,\n",
       "   'x': -25.0,\n",
       "   'y': 45.0},\n",
       "  '-25.0 5.0': {'Rs': 13.171020764,\n",
       "   'd': 667.0,\n",
       "   'mob': 19.059360959206145,\n",
       "   'ne': 3.728068511033364e+20,\n",
       "   'rho': 0.0008785070849587999,\n",
       "   'wp': 1.164,\n",
       "   'x': -25.0,\n",
       "   'y': 5.0},\n",
       "  '-35.0 -15.0': {'Rs': 28.817954704,\n",
       "   'd': 465.0,\n",
       "   'mob': 13.940561533519885,\n",
       "   'ne': 3.341497289882739e+20,\n",
       "   'rho': 0.001340034893736,\n",
       "   'wp': 1.102,\n",
       "   'x': -35.0,\n",
       "   'y': -15.0},\n",
       "  '-35.0 -25.0': {'Rs': 43.760992,\n",
       "   'd': 433.0,\n",
       "   'mob': 11.75986068812666,\n",
       "   'ne': 2.8013040984557912e+20,\n",
       "   'rho': 0.0018948509536,\n",
       "   'wp': 1.009,\n",
       "   'x': -35.0,\n",
       "   'y': -25.0},\n",
       "  '-35.0 -35.0': {'Rs': 69.328138572,\n",
       "   'd': 385.0,\n",
       "   'mob': 8.977669517102676,\n",
       "   'ne': 2.604975269970614e+20,\n",
       "   'rho': 0.002669133335022,\n",
       "   'wp': 0.973,\n",
       "   'x': -35.0,\n",
       "   'y': -35.0},\n",
       "  '-35.0 -45.0': {'Rs': 138.62350172,\n",
       "   'd': 349.0,\n",
       "   'mob': 5.295634770537044,\n",
       "   'ne': 2.4364481356637952e+20,\n",
       "   'rho': 0.004837960210028001,\n",
       "   'wp': 0.941,\n",
       "   'x': -35.0,\n",
       "   'y': -45.0},\n",
       "  '-35.0 -5.0': {'Rs': 20.561267056000002,\n",
       "   'd': 504.4,\n",
       "   'mob': 17.438076033737428,\n",
       "   'ne': 3.4515484142253375e+20,\n",
       "   'rho': 0.00103711031030464,\n",
       "   'wp': 1.12,\n",
       "   'x': -35.0,\n",
       "   'y': -5.0},\n",
       "  '-35.0 15.0': {'Rs': 15.983031592,\n",
       "   'd': 622.0,\n",
       "   'mob': 17.80808286152826,\n",
       "   'ne': 3.525906389628737e+20,\n",
       "   'rho': 0.0009941445650224,\n",
       "   'wp': 1.132,\n",
       "   'x': -35.0,\n",
       "   'y': 15.0},\n",
       "  '-35.0 25.0': {'Rs': 17.033807516,\n",
       "   'd': 642.0,\n",
       "   'mob': 16.897921173065622,\n",
       "   'ne': 3.377982886161938e+20,\n",
       "   'rho': 0.0010935704425272,\n",
       "   'wp': 1.108,\n",
       "   'x': -35.0,\n",
       "   'y': 25.0},\n",
       "  '-35.0 35.0': {'Rs': 18.299345856,\n",
       "   'd': 675.0,\n",
       "   'mob': 16.6904962486388,\n",
       "   'ne': 3.027811963139329e+20,\n",
       "   'rho': 0.00123520584528,\n",
       "   'wp': 1.049,\n",
       "   'x': -35.0,\n",
       "   'y': 35.0},\n",
       "  '-35.0 45.0': {'Rs': 21.648081444,\n",
       "   'd': 696.0,\n",
       "   'mob': 15.239058719812888,\n",
       "   'ne': 2.7186336806421755e+20,\n",
       "   'rho': 0.0015067064685023999,\n",
       "   'wp': 0.994,\n",
       "   'x': -35.0,\n",
       "   'y': 45.0},\n",
       "  '-35.0 5.0': {'Rs': 16.77401968,\n",
       "   'd': 579.0,\n",
       "   'mob': 17.910662251327462,\n",
       "   'ne': 3.588476710849626e+20,\n",
       "   'rho': 0.0009712157394719999,\n",
       "   'wp': 1.142,\n",
       "   'x': -35.0,\n",
       "   'y': 5.0},\n",
       "  '-45.0 -15.0': {'Rs': 40.590386672,\n",
       "   'd': 404.0,\n",
       "   'mob': 12.74147107078936,\n",
       "   'ne': 2.987537478015752e+20,\n",
       "   'rho': 0.0016398516215488,\n",
       "   'wp': 1.042,\n",
       "   'x': -45.0,\n",
       "   'y': -15.0},\n",
       "  '-45.0 -25.0': {'Rs': 58.344319924,\n",
       "   'd': 385.0,\n",
       "   'mob': 10.537434036203084,\n",
       "   'ne': 2.6372014617973093e+20,\n",
       "   'rho': 0.0022462563170739997,\n",
       "   'wp': 0.979,\n",
       "   'x': -45.0,\n",
       "   'y': -25.0},\n",
       "  '-45.0 -35.0': {'Rs': 85.41790782800001,\n",
       "   'd': 343.0,\n",
       "   'mob': 7.99698566023126,\n",
       "   'ne': 2.6642079570824043e+20,\n",
       "   'rho': 0.0029298342385004005,\n",
       "   'wp': 0.984,\n",
       "   'x': -45.0,\n",
       "   'y': -35.0},\n",
       "  '-45.0 -45.0': {'Rs': 151.35932812000001,\n",
       "   'd': 323.0,\n",
       "   'mob': 5.2182449923067065,\n",
       "   'ne': 2.4468159883621378e+20,\n",
       "   'rho': 0.004888906298276,\n",
       "   'wp': 0.943,\n",
       "   'x': -45.0,\n",
       "   'y': -45.0},\n",
       "  '-45.0 -5.0': {'Rs': 30.37650044,\n",
       "   'd': 445.0,\n",
       "   'mob': 13.920573696356605,\n",
       "   'ne': 3.3172836211604934e+20,\n",
       "   'rho': 0.00135175426958,\n",
       "   'wp': 1.098,\n",
       "   'x': -45.0,\n",
       "   'y': -5.0},\n",
       "  '-45.0 15.0': {'Rs': 22.90021866,\n",
       "   'd': 524.0,\n",
       "   'mob': 14.937695526391607,\n",
       "   'ne': 3.482434599612517e+20,\n",
       "   'rho': 0.001199971457784,\n",
       "   'wp': 1.125,\n",
       "   'x': -45.0,\n",
       "   'y': 15.0},\n",
       "  '-45.0 25.0': {'Rs': 21.168672888,\n",
       "   'd': 543.0,\n",
       "   'mob': 15.401862744099036,\n",
       "   'ne': 3.525906389628737e+20,\n",
       "   'rho': 0.0011494589378183999,\n",
       "   'wp': 1.132,\n",
       "   'x': -45.0,\n",
       "   'y': 25.0},\n",
       "  '-45.0 35.0': {'Rs': 22.190847360000003,\n",
       "   'd': 577.0,\n",
       "   'mob': 16.00952273180808,\n",
       "   'ne': 3.045155003361638e+20,\n",
       "   'rho': 0.001280411892672,\n",
       "   'wp': 1.052,\n",
       "   'x': -45.0,\n",
       "   'y': 35.0},\n",
       "  '-45.0 45.0': {'Rs': 32.144157188,\n",
       "   'd': 601.0,\n",
       "   'mob': 12.715582898120134,\n",
       "   'ne': 2.541117221822223e+20,\n",
       "   'rho': 0.0019318638469988,\n",
       "   'wp': 0.961,\n",
       "   'x': -45.0,\n",
       "   'y': 45.0},\n",
       "  '-45.0 5.0': {'Rs': 24.443700028,\n",
       "   'd': 497.0,\n",
       "   'mob': 15.659970988340058,\n",
       "   'ne': 3.281128211272962e+20,\n",
       "   'rho': 0.0012148518913915997,\n",
       "   'wp': 1.092,\n",
       "   'x': -45.0,\n",
       "   'y': 5.0},\n",
       "  '-5.0 -15.0': {'Rs': 14.96085712,\n",
       "   'd': 660.0,\n",
       "   'mob': 16.52842772254035,\n",
       "   'ne': 3.824771850492827e+20,\n",
       "   'rho': 0.00098741656992,\n",
       "   'wp': 1.179,\n",
       "   'x': -5.0,\n",
       "   'y': -15.0},\n",
       "  '-5.0 -25.0': {'Rs': 24.935521731999998,\n",
       "   'd': 584.0,\n",
       "   'mob': 14.211335556701206,\n",
       "   'ne': 3.0162774518570975e+20,\n",
       "   'rho': 0.0014562344691487997,\n",
       "   'wp': 1.047,\n",
       "   'x': -5.0,\n",
       "   'y': -25.0},\n",
       "  '-5.0 -35.0': {'Rs': 46.876746532,\n",
       "   'd': 516.0,\n",
       "   'mob': 10.113461516068288,\n",
       "   'ne': 2.551705198781677e+20,\n",
       "   'rho': 0.0024188401210512,\n",
       "   'wp': 0.963,\n",
       "   'x': -5.0,\n",
       "   'y': -35.0},\n",
       "  '-5.0 -45.0': {'Rs': 118.817501528,\n",
       "   'd': 451.0,\n",
       "   'mob': 5.249886726042242,\n",
       "   'ne': 2.2188635582150577e+20,\n",
       "   'rho': 0.0053586693189128,\n",
       "   'wp': 0.898,\n",
       "   'x': -5.0,\n",
       "   'y': -45.0},\n",
       "  '-5.0 -5.0': {'Rs': 10.865918668,\n",
       "   'd': 765.0,\n",
       "   'mob': 19.402705901062895,\n",
       "   'ne': 3.8703238147765476e+20,\n",
       "   'rho': 0.0008312427781020001,\n",
       "   'wp': 1.186,\n",
       "   'x': -5.0,\n",
       "   'y': -5.0},\n",
       "  '-5.0 15.0': {'Rs': 12.508555664,\n",
       "   'd': 917.0,\n",
       "   'mob': 16.708030990078296,\n",
       "   'ne': 3.257134666811828e+20,\n",
       "   'rho': 0.0011470345543887997,\n",
       "   'wp': 1.088,\n",
       "   'x': -5.0,\n",
       "   'y': 15.0},\n",
       "  '-5.0 25.0': {'Rs': 17.44262564,\n",
       "   'd': 951.0,\n",
       "   'mob': 13.275017513678053,\n",
       "   'ne': 2.834718961292488e+20,\n",
       "   'rho': 0.0016587936983639999,\n",
       "   'wp': 1.015,\n",
       "   'x': -5.0,\n",
       "   'y': 25.0},\n",
       "  '-5.0 35.0': {'Rs': 26.673484816000002,\n",
       "   'd': 1012.0,\n",
       "   'mob': 9.273109669173868,\n",
       "   'ne': 2.4937437292778052e+20,\n",
       "   'rho': 0.0026993566633792,\n",
       "   'wp': 0.952,\n",
       "   'x': -5.0,\n",
       "   'y': 35.0},\n",
       "  '-5.0 45.0': {'Rs': 49.248854248,\n",
       "   'd': 1033.0,\n",
       "   'mob': 5.34960303006022,\n",
       "   'ne': 2.293609502628667e+20,\n",
       "   'rho': 0.0050874066438184,\n",
       "   'wp': 0.913,\n",
       "   'x': -5.0,\n",
       "   'y': 45.0},\n",
       "  '-5.0 5.0': {'Rs': 10.338325888,\n",
       "   'd': 834.0,\n",
       "   'mob': 19.386144461238946,\n",
       "   'ne': 3.734476878584967e+20,\n",
       "   'rho': 0.0008622163790591999,\n",
       "   'wp': 1.165,\n",
       "   'x': -5.0,\n",
       "   'y': 5.0},\n",
       "  '15.0 -15.0': {'Rs': 10.970730232000001,\n",
       "   'd': 784.0,\n",
       "   'mob': 18.53220424932643,\n",
       "   'ne': 3.916145431280131e+20,\n",
       "   'rho': 0.0008601052501888,\n",
       "   'wp': 1.193,\n",
       "   'x': 15.0,\n",
       "   'y': -15.0},\n",
       "  '15.0 -25.0': {'Rs': 17.229580852,\n",
       "   'd': 686.0,\n",
       "   'mob': 15.578110438792322,\n",
       "   'ne': 3.3901887764405617e+20,\n",
       "   'rho': 0.0011819492464472002,\n",
       "   'wp': 1.11,\n",
       "   'x': 15.0,\n",
       "   'y': -25.0},\n",
       "  '15.0 -35.0': {'Rs': 32.129899516,\n",
       "   'd': 568.0,\n",
       "   'mob': 11.168553829924168,\n",
       "   'ne': 3.062547571542695e+20,\n",
       "   'rho': 0.0018249782925088,\n",
       "   'wp': 1.055,\n",
       "   'x': 15.0,\n",
       "   'y': -35.0},\n",
       "  '15.0 -45.0': {'Rs': 76.548294372,\n",
       "   'd': 513.0,\n",
       "   'mob': 6.455418579155085,\n",
       "   'ne': 2.462409040708611e+20,\n",
       "   'rho': 0.0039269275012836,\n",
       "   'wp': 0.946,\n",
       "   'x': 15.0,\n",
       "   'y': -45.0},\n",
       "  '15.0 -5.0': {'Rs': 9.28658918,\n",
       "   'd': 907.0,\n",
       "   'mob': 19.442097540800265,\n",
       "   'ne': 3.811806531513371e+20,\n",
       "   'rho': 0.000842293638626,\n",
       "   'wp': 1.177,\n",
       "   'x': 15.0,\n",
       "   'y': -5.0},\n",
       "  '15.0 15.0': {'Rs': 17.10718966,\n",
       "   'd': 1070.0,\n",
       "   'mob': 11.591937706079,\n",
       "   'ne': 2.9418396814090443e+20,\n",
       "   'rho': 0.00183046929362,\n",
       "   'wp': 1.034,\n",
       "   'x': 15.0,\n",
       "   'y': 15.0},\n",
       "  '15.0 25.0': {'Rs': 32.20760972,\n",
       "   'd': 1128.0,\n",
       "   'mob': 7.298078055362602,\n",
       "   'ne': 2.354297761417055e+20,\n",
       "   'rho': 0.003633018376416,\n",
       "   'wp': 0.925,\n",
       "   'x': 15.0,\n",
       "   'y': 25.0},\n",
       "  '15.0 35.0': {'Rs': 72.930725076,\n",
       "   'd': 1177.0,\n",
       "   'mob': 3.491677019814063,\n",
       "   'ne': 2.082650665439379e+20,\n",
       "   'rho': 0.0085839463414452,\n",
       "   'wp': 0.87,\n",
       "   'x': 15.0,\n",
       "   'y': 35.0},\n",
       "  '15.0 45.0': {'Rs': 235.46774174,\n",
       "   'd': 1224.0,\n",
       "   'mob': 1.21164848586067,\n",
       "   'ne': 1.787508056141335e+20,\n",
       "   'rho': 0.028821251588976,\n",
       "   'wp': 0.806,\n",
       "   'x': 15.0,\n",
       "   'y': 45.0},\n",
       "  '15.0 5.0': {'Rs': 11.074997955999999,\n",
       "   'd': 984.0,\n",
       "   'mob': 16.506739530795564,\n",
       "   'ne': 3.470063616138063e+20,\n",
       "   'rho': 0.0010897797988703999,\n",
       "   'wp': 1.123,\n",
       "   'x': 15.0,\n",
       "   'y': 5.0},\n",
       "  '25.0 -15.0': {'Rs': 9.755791671999999,\n",
       "   'd': 842.0,\n",
       "   'mob': 19.210850338968,\n",
       "   'ne': 3.955635723723501e+20,\n",
       "   'rho': 0.0008214376587823999,\n",
       "   'wp': 1.199,\n",
       "   'x': 25.0,\n",
       "   'y': -15.0},\n",
       "  '25.0 -25.0': {'Rs': 14.455049664,\n",
       "   'd': 732.0,\n",
       "   'mob': 16.526521262389128,\n",
       "   'ne': 3.569647831864819e+20,\n",
       "   'rho': 0.0010581096354048,\n",
       "   'wp': 1.139,\n",
       "   'x': 25.0,\n",
       "   'y': -25.0},\n",
       "  '25.0 -35.0': {'Rs': 25.289090244,\n",
       "   'd': 590.0,\n",
       "   'mob': 12.429798612701038,\n",
       "   'ne': 3.365799008309427e+20,\n",
       "   'rho': 0.001492056324396,\n",
       "   'wp': 1.106,\n",
       "   'x': 25.0,\n",
       "   'y': -35.0},\n",
       "  '25.0 -45.0': {'Rs': 55.451286,\n",
       "   'd': 527.0,\n",
       "   'mob': 7.610173861152086,\n",
       "   'ne': 2.806859484495588e+20,\n",
       "   'rho': 0.0029222827722,\n",
       "   'wp': 1.01,\n",
       "   'x': 25.0,\n",
       "   'y': -45.0},\n",
       "  '25.0 -5.0': {'Rs': 9.363189044,\n",
       "   'd': 950.0,\n",
       "   'mob': 18.986516669240036,\n",
       "   'ne': 3.696109219873267e+20,\n",
       "   'rho': 0.00088950295918,\n",
       "   'wp': 1.159,\n",
       "   'x': 25.0,\n",
       "   'y': -5.0},\n",
       "  '25.0 15.0': {'Rs': 21.84181538,\n",
       "   'd': 1115.0,\n",
       "   'mob': 9.640264041240966,\n",
       "   'ne': 2.6587956518123297e+20,\n",
       "   'rho': 0.00243536241487,\n",
       "   'wp': 0.983,\n",
       "   'x': 25.0,\n",
       "   'y': 15.0},\n",
       "  '25.0 25.0': {'Rs': 48.367774532000006,\n",
       "   'd': 1180.0,\n",
       "   'mob': 4.831776945466211,\n",
       "   'ne': 2.2635625409869732e+20,\n",
       "   'rho': 0.005707397394776,\n",
       "   'wp': 0.907,\n",
       "   'x': 25.0,\n",
       "   'y': 25.0},\n",
       "  '25.0 35.0': {'Rs': 133.631879876,\n",
       "   'd': 1238.0,\n",
       "   'mob': 2.0245530957824673,\n",
       "   'ne': 1.8637068206782785e+20,\n",
       "   'rho': 0.0165436267286488,\n",
       "   'wp': 0.823,\n",
       "   'x': 25.0,\n",
       "   'y': 35.0},\n",
       "  '25.0 45.0': {'Rs': 635.11778836,\n",
       "   'd': 1279.0,\n",
       "   'mob': 0.6093367973329958,\n",
       "   'ne': 1.2611166558860688e+20,\n",
       "   'rho': 0.081231565131244,\n",
       "   'wp': 0.677,\n",
       "   'x': 25.0,\n",
       "   'y': 45.0},\n",
       "  '25.0 5.0': {'Rs': 12.4609606,\n",
       "   'd': 1046.0,\n",
       "   'mob': 15.145610573395603,\n",
       "   'ne': 3.1620409860117424e+20,\n",
       "   'rho': 0.00130341647876,\n",
       "   'wp': 1.072,\n",
       "   'x': 25.0,\n",
       "   'y': 5.0},\n",
       "  '35.0 -15.0': {'Rs': 9.243521584,\n",
       "   'd': 864.0,\n",
       "   'mob': 19.628047813637025,\n",
       "   'ne': 3.982072647482968e+20,\n",
       "   'rho': 0.0007986402648576,\n",
       "   'wp': 1.203,\n",
       "   'x': 35.0,\n",
       "   'y': -15.0},\n",
       "  '35.0 -25.0': {'Rs': 12.904208328000001,\n",
       "   'd': 757.0,\n",
       "   'mob': 17.111200023497027,\n",
       "   'ne': 3.734476878584967e+20,\n",
       "   'rho': 0.0009768485704296,\n",
       "   'wp': 1.165,\n",
       "   'x': 35.0,\n",
       "   'y': -25.0},\n",
       "  '35.0 -35.0': {'Rs': 21.146012888,\n",
       "   'd': 614.0,\n",
       "   'mob': 13.211952987109044,\n",
       "   'ne': 3.6389291914963386e+20,\n",
       "   'rho': 0.0012983651913232,\n",
       "   'wp': 1.15,\n",
       "   'x': 35.0,\n",
       "   'y': -35.0},\n",
       "  '35.0 -45.0': {'Rs': 42.201834444,\n",
       "   'd': 540.0,\n",
       "   'mob': 8.843083116713839,\n",
       "   'ne': 3.0974812917810574e+20,\n",
       "   'rho': 0.002278899059976,\n",
       "   'wp': 1.061,\n",
       "   'x': 35.0,\n",
       "   'y': -45.0},\n",
       "  '35.0 -5.0': {'Rs': 10.112917804,\n",
       "   'd': 981.0,\n",
       "   'mob': 17.59561199248386,\n",
       "   'ne': 3.575918621753226e+20,\n",
       "   'rho': 0.0009920772365724,\n",
       "   'wp': 1.14,\n",
       "   'x': 35.0,\n",
       "   'y': -5.0},\n",
       "  '35.0 15.0': {'Rs': 27.933507712,\n",
       "   'd': 1163.0,\n",
       "   'mob': 8.056659554483955,\n",
       "   'ne': 2.3849390585637487e+20,\n",
       "   'rho': 0.0032486669469056,\n",
       "   'wp': 0.931,\n",
       "   'x': 35.0,\n",
       "   'y': 15.0},\n",
       "  '35.0 25.0': {'Rs': 74.032708068,\n",
       "   'd': 1208.0,\n",
       "   'mob': 3.3591503377542002,\n",
       "   'ne': 2.077865714313472e+20,\n",
       "   'rho': 0.008943151134614401,\n",
       "   'wp': 0.869,\n",
       "   'x': 35.0,\n",
       "   'y': 25.0},\n",
       "  '35.0 35.0': {'Rs': 237.99919004400002,\n",
       "   'd': 1275.0,\n",
       "   'mob': 1.4461592488863597,\n",
       "   'ne': 1.422445726854547e+20,\n",
       "   'rho': 0.03034489673061,\n",
       "   'wp': 0.719,\n",
       "   'x': 35.0,\n",
       "   'y': 35.0},\n",
       "  '35.0 45.0': {'Rs': 1543.316140344,\n",
       "   'd': 1328.0,\n",
       "   'mob': 0.36591584165652713,\n",
       "   'ne': 8.3234486232714e+19,\n",
       "   'rho': 0.20495238343768318,\n",
       "   'wp': 0.55,\n",
       "   'x': 35.0,\n",
       "   'y': 45.0},\n",
       "  '35.0 5.0': {'Rs': 14.663952204000001,\n",
       "   'd': 1083.0,\n",
       "   'mob': 12.956910917707347,\n",
       "   'ne': 3.033587473440237e+20,\n",
       "   'rho': 0.0015881060236932,\n",
       "   'wp': 1.05,\n",
       "   'x': 35.0,\n",
       "   'y': 5.0},\n",
       "  '45.0 -15.0': {'Rs': 9.724058608,\n",
       "   'd': 878.0,\n",
       "   'mob': 18.545100005028278,\n",
       "   'ne': 3.9424502804829327e+20,\n",
       "   'rho': 0.0008537723457823999,\n",
       "   'wp': 1.197,\n",
       "   'x': 45.0,\n",
       "   'y': -15.0},\n",
       "  '45.0 -25.0': {'Rs': 11.621267108,\n",
       "   'd': 771.0,\n",
       "   'mob': 18.000406990555494,\n",
       "   'ne': 3.8703238147765476e+20,\n",
       "   'rho': 0.0008959996940267999,\n",
       "   'wp': 1.186,\n",
       "   'x': 45.0,\n",
       "   'y': -25.0},\n",
       "  '45.0 -35.0': {'Rs': 18.827428092,\n",
       "   'd': 621.0,\n",
       "   'mob': 13.42975317881349,\n",
       "   'ne': 3.9754551618833095e+20,\n",
       "   'rho': 0.0011691832845132,\n",
       "   'wp': 1.202,\n",
       "   'x': 45.0,\n",
       "   'y': -35.0},\n",
       "  '45.0 -45.0': {'Rs': 43.985258019999996,\n",
       "   'd': 545.0,\n",
       "   'mob': 8.390867908996269,\n",
       "   'ne': 3.1033228393603006e+20,\n",
       "   'rho': 0.00239719656209,\n",
       "   'wp': 1.062,\n",
       "   'x': 45.0,\n",
       "   'y': -45.0},\n",
       "  '45.0 -5.0': {'Rs': 11.67676598,\n",
       "   'd': 994.0,\n",
       "   'mob': 15.416075274493274,\n",
       "   'ne': 3.488628346009535e+20,\n",
       "   'rho': 0.001160670538412,\n",
       "   'wp': 1.126,\n",
       "   'x': 45.0,\n",
       "   'y': -5.0},\n",
       "  '45.0 15.0': {'Rs': 39.797477016,\n",
       "   'd': 1187.0,\n",
       "   'mob': 5.9818743334543125,\n",
       "   'ne': 2.208990985104216e+20,\n",
       "   'rho': 0.0047239605217992,\n",
       "   'wp': 0.896,\n",
       "   'x': 45.0,\n",
       "   'y': 15.0},\n",
       "  '45.0 25.0': {'Rs': 128.137967408,\n",
       "   'd': 1228.0,\n",
       "   'mob': 2.0239439130849246,\n",
       "   'ne': 1.9600304457873244e+20,\n",
       "   'rho': 0.0157353423977024,\n",
       "   'wp': 0.844,\n",
       "   'x': 45.0,\n",
       "   'y': 25.0},\n",
       "  '45.0 35.0': {'Rs': 568.57842052,\n",
       "   'd': 1284.0,\n",
       "   'mob': 0.8189223863032304,\n",
       "   'ne': 1.0440933953031643e+20,\n",
       "   'rho': 0.073005469194768,\n",
       "   'wp': 0.616,\n",
       "   'x': 45.0,\n",
       "   'y': 35.0},\n",
       "  '45.0 45.0': {'Rs': 4423.825130032,\n",
       "   'd': 1380.0,\n",
       "   'mob': 0.15414148620407586,\n",
       "   'ne': 6.633472124121958e+19,\n",
       "   'rho': 0.6104878679444159,\n",
       "   'wp': 0.491,\n",
       "   'x': 45.0,\n",
       "   'y': 45.0},\n",
       "  '45.0 5.0': {'Rs': 18.655175836,\n",
       "   'd': 1089.0,\n",
       "   'mob': 10.485108836416188,\n",
       "   'ne': 2.9304702633226453e+20,\n",
       "   'rho': 0.0020315486485404,\n",
       "   'wp': 1.032,\n",
       "   'x': 45.0,\n",
       "   'y': 5.0},\n",
       "  '5.0 -15.0': {'Rs': 12.74561552,\n",
       "   'd': 729.0,\n",
       "   'mob': 17.505375334570246,\n",
       "   'ne': 3.837759181898395e+20,\n",
       "   'rho': 0.0009291553714079999,\n",
       "   'wp': 1.181,\n",
       "   'x': 5.0,\n",
       "   'y': -15.0},\n",
       "  '5.0 -25.0': {'Rs': 20.896698504000003,\n",
       "   'd': 626.0,\n",
       "   'mob': 14.437315450201316,\n",
       "   'ne': 3.305209805438538e+20,\n",
       "   'rho': 0.0013081333263504002,\n",
       "   'wp': 1.096,\n",
       "   'x': 5.0,\n",
       "   'y': -25.0},\n",
       "  '5.0 -35.0': {'Rs': 39.43914084,\n",
       "   'd': 534.0,\n",
       "   'mob': 10.394301394348187,\n",
       "   'ne': 2.8515006846489618e+20,\n",
       "   'rho': 0.002106050120856,\n",
       "   'wp': 1.018,\n",
       "   'x': 5.0,\n",
       "   'y': -35.0},\n",
       "  '5.0 -45.0': {'Rs': 99.10935628,\n",
       "   'd': 484.0,\n",
       "   'mob': 5.661182500854908,\n",
       "   'ne': 2.2986365904417964e+20,\n",
       "   'rho': 0.004796892843952,\n",
       "   'wp': 0.914,\n",
       "   'x': 5.0,\n",
       "   'y': -45.0},\n",
       "  '5.0 -5.0': {'Rs': 9.753525672,\n",
       "   'd': 842.0,\n",
       "   'mob': 19.605792559655665,\n",
       "   'ne': 3.8768532506717625e+20,\n",
       "   'rho': 0.0008212468615824,\n",
       "   'wp': 1.187,\n",
       "   'x': 5.0,\n",
       "   'y': -5.0},\n",
       "  '5.0 15.0': {'Rs': 14.024813307999999,\n",
       "   'd': 998.0,\n",
       "   'mob': 14.370864695779613,\n",
       "   'ne': 3.1033228393603006e+20,\n",
       "   'rho': 0.0013996763681383998,\n",
       "   'wp': 1.062,\n",
       "   'x': 5.0,\n",
       "   'y': 15.0},\n",
       "  '5.0 25.0': {'Rs': 22.483233872,\n",
       "   'd': 1059.0,\n",
       "   'mob': 10.189476633492516,\n",
       "   'ne': 2.5729471899789187e+20,\n",
       "   'rho': 0.0023809744670448,\n",
       "   'wp': 0.967,\n",
       "   'x': 5.0,\n",
       "   'y': 25.0},\n",
       "  '5.0 35.0': {'Rs': 41.442878532,\n",
       "   'd': 1100.0,\n",
       "   'mob': 5.729083357874939,\n",
       "   'ne': 2.3900652022943787e+20,\n",
       "   'rho': 0.00455871663852,\n",
       "   'wp': 0.932,\n",
       "   'x': 5.0,\n",
       "   'y': 35.0},\n",
       "  '5.0 45.0': {'Rs': 94.66254881600001,\n",
       "   'd': 1120.0,\n",
       "   'mob': 2.8931199836471873,\n",
       "   'ne': 2.0350487939740582e+20,\n",
       "   'rho': 0.010602205467392002,\n",
       "   'wp': 0.86,\n",
       "   'x': 5.0,\n",
       "   'y': 45.0},\n",
       "  '5.0 5.0': {'Rs': 10.401796548,\n",
       "   'd': 914.0,\n",
       "   'mob': 18.105946683851414,\n",
       "   'ne': 3.626283052695493e+20,\n",
       "   'rho': 0.0009507242044872,\n",
       "   'wp': 1.148,\n",
       "   'x': 5.0,\n",
       "   'y': 5.0}}]"
      ]
     },
     "execution_count": 21,
     "metadata": {},
     "output_type": "execute_result"
    }
   ],
   "source": [
    "threed.data #will dump the contents of the file so that you can read it."
   ]
  },
  {
   "cell_type": "markdown",
   "metadata": {},
   "source": [
    "So, what are you looking at here? Well, it's a large dictionary containing lots of data. In this case the data relates to a thin film of Zinc Oxide (deposited by the SIRE PV group) and the parameters d, mob, ne, rho and wp represent the thickness, mobility, carrier concentration, resistivity and plasma frequency respectively. Don't worry too much about what all this means - it's just data!"
   ]
  },
  {
   "cell_type": "markdown",
   "metadata": {},
   "source": [
    "Values of 'x' and 'y' correspond to physical locations on the square glass sample with the x-y coordinate 0,0 representing the centre of the sample."
   ]
  },
  {
   "cell_type": "markdown",
   "metadata": {},
   "source": [
    "In order for us to plot a 3D graph in Matplotlib we need three lists - one containing x coordinates, another containing y coordinates and a third list containing what we want to plot - lets do thickness first."
   ]
  },
  {
   "cell_type": "markdown",
   "metadata": {},
   "source": [
    "## Exercise 3.1\n",
    "\n",
    "Have a go at extracting x, y and d values to three separate lists from the data in the cell below. Try not to peek (it's ok if you do) at the solution in the following cell."
   ]
  },
  {
   "cell_type": "code",
   "execution_count": 22,
   "metadata": {
    "collapsed": true
   },
   "outputs": [],
   "source": [
    "# Write your solution here."
   ]
  },
  {
   "cell_type": "code",
   "execution_count": 36,
   "metadata": {
    "collapsed": false
   },
   "outputs": [
    {
     "ename": "AttributeError",
     "evalue": "'list' object has no attribute 'values'",
     "output_type": "error",
     "traceback": [
      "\u001b[0;31m---------------------------------------------------------------------------\u001b[0m",
      "\u001b[0;31mAttributeError\u001b[0m                            Traceback (most recent call last)",
      "\u001b[0;32m<ipython-input-36-0943d6be90f1>\u001b[0m in \u001b[0;36m<module>\u001b[0;34m()\u001b[0m\n\u001b[1;32m      4\u001b[0m \u001b[0mz\u001b[0m \u001b[0;34m=\u001b[0m \u001b[0;34m[\u001b[0m\u001b[0;34m]\u001b[0m\u001b[0;34m\u001b[0m\u001b[0m\n\u001b[1;32m      5\u001b[0m \u001b[0;34m\u001b[0m\u001b[0m\n\u001b[0;32m----> 6\u001b[0;31m \u001b[0;32mfor\u001b[0m \u001b[0mpoint\u001b[0m \u001b[0;32min\u001b[0m \u001b[0mthreed\u001b[0m\u001b[0;34m.\u001b[0m\u001b[0mdata\u001b[0m\u001b[0;34m.\u001b[0m\u001b[0mvalues\u001b[0m\u001b[0;34m(\u001b[0m\u001b[0;34m)\u001b[0m\u001b[0;34m:\u001b[0m\u001b[0;34m\u001b[0m\u001b[0m\n\u001b[0m\u001b[1;32m      7\u001b[0m     \u001b[0mprint\u001b[0m\u001b[0;34m(\u001b[0m\u001b[0mpoint\u001b[0m\u001b[0;34m)\u001b[0m\u001b[0;34m\u001b[0m\u001b[0m\n",
      "\u001b[0;31mAttributeError\u001b[0m: 'list' object has no attribute 'values'"
     ]
    }
   ],
   "source": [
    "# Define your lists\n",
    "x = []\n",
    "y = []\n",
    "z = []\n",
    "\n",
    "for point in threed.data.values():\n",
    "    print(point)\n"
   ]
  },
  {
   "cell_type": "code",
   "execution_count": null,
   "metadata": {
    "collapsed": true
   },
   "outputs": [],
   "source": []
  }
 ],
 "metadata": {
  "kernelspec": {
   "display_name": "IPython (Python 3)",
   "language": "python",
   "name": "python3"
  },
  "language_info": {
   "codemirror_mode": {
    "name": "ipython",
    "version": 3
   },
   "file_extension": ".py",
   "mimetype": "text/x-python",
   "name": "python",
   "nbconvert_exporter": "python",
   "pygments_lexer": "ipython3",
   "version": "3.5.2"
  },
  "widgets": {
   "state": {},
   "version": "1.1.2"
  }
 },
 "nbformat": 4,
 "nbformat_minor": 0
}
