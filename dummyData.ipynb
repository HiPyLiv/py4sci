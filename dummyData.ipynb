{
 "cells": [
  {
   "cell_type": "code",
   "execution_count": 1,
   "metadata": {
    "collapsed": false
   },
   "outputs": [
    {
     "name": "stdout",
     "output_type": "stream",
     "text": [
      "Populating the interactive namespace from numpy and matplotlib\n"
     ]
    }
   ],
   "source": [
    "% pylab inline"
   ]
  },
  {
   "cell_type": "code",
   "execution_count": 41,
   "metadata": {
    "collapsed": false
   },
   "outputs": [],
   "source": [
    "def normLinear(m, c, mu):\n",
    "    x = random.rand(1, 100)[0]\n",
    "    y = m*x+c\n",
    "    for i in range(len(y)):\n",
    "        y[i] = random.normal(y[i], 0.4, 1)[0]\n",
    "    return x, y"
   ]
  },
  {
   "cell_type": "code",
   "execution_count": 46,
   "metadata": {
    "collapsed": false
   },
   "outputs": [],
   "source": [
    "def saveFile(filename, data):\n",
    "    with open(filename, 'w') as f:\n",
    "        for i in range(len(data[0])):\n",
    "            string = ''\n",
    "            for item in data:\n",
    "                string += '{0},'.format(item[i])                \n",
    "            f.write('{0}\\n'.format(string[:-1]))\n",
    "                "
   ]
  },
  {
   "cell_type": "code",
   "execution_count": 169,
   "metadata": {
    "collapsed": false
   },
   "outputs": [],
   "source": [
    "def normSB():\n",
    "    x = random.rand(1, 100)[0]*10000\n",
    "    y = 5.67e-8*x**4\n",
    "    for i in range(len(y)):\n",
    "        y[i] = random.normal(y[i], 15000000, 1)[0]\n",
    "    return x, y"
   ]
  },
  {
   "cell_type": "code",
   "execution_count": 176,
   "metadata": {
    "collapsed": true
   },
   "outputs": [],
   "source": [
    "saveFile('basicData.csv', normLinear(2.4, -1.5, 0.4))"
   ]
  }
 ],
 "metadata": {
  "kernelspec": {
   "display_name": "Python 3",
   "language": "python",
   "name": "python3"
  },
  "language_info": {
   "codemirror_mode": {
    "name": "ipython",
    "version": 3
   },
   "file_extension": ".py",
   "mimetype": "text/x-python",
   "name": "python",
   "nbconvert_exporter": "python",
   "pygments_lexer": "ipython3",
   "version": "3.4.3"
  }
 },
 "nbformat": 4,
 "nbformat_minor": 0
}
